{
 "cells": [
  {
   "cell_type": "code",
   "execution_count": 1,
   "metadata": {},
   "outputs": [],
   "source": [
    "import pandas as pd"
   ]
  },
  {
   "cell_type": "code",
   "execution_count": 2,
   "metadata": {},
   "outputs": [
    {
     "data": {
      "text/plain": [
       "113568"
      ]
     },
     "execution_count": 2,
     "metadata": {},
     "output_type": "execute_result"
    }
   ],
   "source": [
    "# 7월 3일 데이터\n",
    "data = pd.read_csv('./data/ODdata3.csv')\n",
    "len(data)"
   ]
  },
  {
   "cell_type": "code",
   "execution_count": 3,
   "metadata": {
    "scrolled": true
   },
   "outputs": [
    {
     "data": {
      "text/html": [
       "<div>\n",
       "<style scoped>\n",
       "    .dataframe tbody tr th:only-of-type {\n",
       "        vertical-align: middle;\n",
       "    }\n",
       "\n",
       "    .dataframe tbody tr th {\n",
       "        vertical-align: top;\n",
       "    }\n",
       "\n",
       "    .dataframe thead th {\n",
       "        text-align: right;\n",
       "    }\n",
       "</style>\n",
       "<table border=\"1\" class=\"dataframe\">\n",
       "  <thead>\n",
       "    <tr style=\"text-align: right;\">\n",
       "      <th></th>\n",
       "      <th>Unnamed: 0</th>\n",
       "      <th>최초승차역ID</th>\n",
       "      <th>최종하차역ID</th>\n",
       "      <th>이용량</th>\n",
       "      <th>이비카드정류장ID_승차</th>\n",
       "      <th>정류소명_승차</th>\n",
       "      <th>표준정류장ID_승차</th>\n",
       "      <th>WGS84위도_승차</th>\n",
       "      <th>WGS84경도_승차</th>\n",
       "      <th>관할관청_승차</th>\n",
       "      <th>이비카드정류장ID_하차</th>\n",
       "      <th>정류소명_하차</th>\n",
       "      <th>표준정류장ID_하차</th>\n",
       "      <th>WGS84위도_하차</th>\n",
       "      <th>WGS84경도_하차</th>\n",
       "      <th>관할관청_하차</th>\n",
       "    </tr>\n",
       "  </thead>\n",
       "  <tbody>\n",
       "    <tr>\n",
       "      <td>0</td>\n",
       "      <td>18946</td>\n",
       "      <td>4100002.0</td>\n",
       "      <td>4100004.0</td>\n",
       "      <td>1</td>\n",
       "      <td>4100002.0</td>\n",
       "      <td>하북차고지</td>\n",
       "      <td>214001151.0</td>\n",
       "      <td>37.103517</td>\n",
       "      <td>127.064317</td>\n",
       "      <td>경기도 평택시</td>\n",
       "      <td>4100004.0</td>\n",
       "      <td>서탄입구</td>\n",
       "      <td>214000514.0</td>\n",
       "      <td>37.104117</td>\n",
       "      <td>127.063833</td>\n",
       "      <td>경기도 평택시</td>\n",
       "    </tr>\n",
       "    <tr>\n",
       "      <td>1</td>\n",
       "      <td>18947</td>\n",
       "      <td>4100002.0</td>\n",
       "      <td>4100020.0</td>\n",
       "      <td>1</td>\n",
       "      <td>4100002.0</td>\n",
       "      <td>하북차고지</td>\n",
       "      <td>214001151.0</td>\n",
       "      <td>37.103517</td>\n",
       "      <td>127.064317</td>\n",
       "      <td>경기도 평택시</td>\n",
       "      <td>4100020.0</td>\n",
       "      <td>대림아파트</td>\n",
       "      <td>223000127.0</td>\n",
       "      <td>37.139800</td>\n",
       "      <td>127.068867</td>\n",
       "      <td>경기도 오산시</td>\n",
       "    </tr>\n",
       "    <tr>\n",
       "      <td>2</td>\n",
       "      <td>18948</td>\n",
       "      <td>4100002.0</td>\n",
       "      <td>4100022.0</td>\n",
       "      <td>1</td>\n",
       "      <td>4100002.0</td>\n",
       "      <td>하북차고지</td>\n",
       "      <td>214001151.0</td>\n",
       "      <td>37.103517</td>\n",
       "      <td>127.064317</td>\n",
       "      <td>경기도 평택시</td>\n",
       "      <td>4100022.0</td>\n",
       "      <td>오산역.오산터미널</td>\n",
       "      <td>223000126.0</td>\n",
       "      <td>37.144433</td>\n",
       "      <td>127.068617</td>\n",
       "      <td>경기도 오산시</td>\n",
       "    </tr>\n",
       "  </tbody>\n",
       "</table>\n",
       "</div>"
      ],
      "text/plain": [
       "   Unnamed: 0    최초승차역ID    최종하차역ID  이용량  이비카드정류장ID_승차 정류소명_승차   표준정류장ID_승차  \\\n",
       "0       18946  4100002.0  4100004.0    1     4100002.0   하북차고지  214001151.0   \n",
       "1       18947  4100002.0  4100020.0    1     4100002.0   하북차고지  214001151.0   \n",
       "2       18948  4100002.0  4100022.0    1     4100002.0   하북차고지  214001151.0   \n",
       "\n",
       "   WGS84위도_승차  WGS84경도_승차  관할관청_승차  이비카드정류장ID_하차    정류소명_하차   표준정류장ID_하차  \\\n",
       "0   37.103517  127.064317  경기도 평택시     4100004.0       서탄입구  214000514.0   \n",
       "1   37.103517  127.064317  경기도 평택시     4100020.0      대림아파트  223000127.0   \n",
       "2   37.103517  127.064317  경기도 평택시     4100022.0  오산역.오산터미널  223000126.0   \n",
       "\n",
       "   WGS84위도_하차  WGS84경도_하차  관할관청_하차  \n",
       "0   37.104117  127.063833  경기도 평택시  \n",
       "1   37.139800  127.068867  경기도 오산시  \n",
       "2   37.144433  127.068617  경기도 오산시  "
      ]
     },
     "execution_count": 3,
     "metadata": {},
     "output_type": "execute_result"
    }
   ],
   "source": [
    "data.head(3)"
   ]
  },
  {
   "cell_type": "code",
   "execution_count": 4,
   "metadata": {},
   "outputs": [
    {
     "data": {
      "text/plain": [
       "Index(['Unnamed: 0', '최초승차역ID', '최종하차역ID', '이용량', '이비카드정류장ID_승차', '정류소명_승차',\n",
       "       '표준정류장ID_승차', 'WGS84위도_승차', 'WGS84경도_승차', '관할관청_승차', '이비카드정류장ID_하차',\n",
       "       '정류소명_하차', '표준정류장ID_하차', 'WGS84위도_하차', 'WGS84경도_하차', '관할관청_하차'],\n",
       "      dtype='object')"
      ]
     },
     "execution_count": 4,
     "metadata": {},
     "output_type": "execute_result"
    }
   ],
   "source": [
    "data.columns"
   ]
  },
  {
   "cell_type": "markdown",
   "metadata": {},
   "source": [
    "### 화성시청 233000189 기준\n",
    "정류장명 : 화성시청, 표준정류장ID : 233000189  \n",
    "\n",
    "\n",
    "G : 화성시청 정류장에서 **승차** 한 사람은 어떤 정류장에서 하차 했는지  \n",
    "S : 화성시청 정류장에서 **하차** 한 사람은 어떤 정류장에서 승차 했는지  "
   ]
  },
  {
   "cell_type": "code",
   "execution_count": 11,
   "metadata": {},
   "outputs": [
    {
     "data": {
      "text/plain": [
       "성빈센트병원         1\n",
       "향남고등학교         1\n",
       "호수마을.LH휴먼시아    1\n",
       "Name: 정류소명_하차, dtype: int64"
      ]
     },
     "execution_count": 11,
     "metadata": {},
     "output_type": "execute_result"
    }
   ],
   "source": [
    "data[data['정류소명_승차'] == '조암터미널']['정류소명_하차'].value_counts()# normalize = True"
   ]
  },
  {
   "cell_type": "code",
   "execution_count": 12,
   "metadata": {
    "scrolled": true
   },
   "outputs": [
    {
     "data": {
      "text/plain": [
       "수원시청역1번출구.국민연금공단.경인일보    1\n",
       "Name: 정류소명_승차, dtype: int64"
      ]
     },
     "execution_count": 12,
     "metadata": {},
     "output_type": "execute_result"
    }
   ],
   "source": [
    "data[data['정류소명_하차'] == '조암터미널']['정류소명_승차'].value_counts()"
   ]
  }
 ],
 "metadata": {
  "kernelspec": {
   "display_name": "Python 3",
   "language": "python",
   "name": "python3"
  },
  "language_info": {
   "codemirror_mode": {
    "name": "ipython",
    "version": 3
   },
   "file_extension": ".py",
   "mimetype": "text/x-python",
   "name": "python",
   "nbconvert_exporter": "python",
   "pygments_lexer": "ipython3",
   "version": "3.6.3"
  }
 },
 "nbformat": 4,
 "nbformat_minor": 2
}
