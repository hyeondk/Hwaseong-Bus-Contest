{
 "cells": [
  {
   "cell_type": "markdown",
   "metadata": {},
   "source": [
    "# 데이터 전처리"
   ]
  },
  {
   "cell_type": "code",
   "execution_count": 1,
   "metadata": {},
   "outputs": [],
   "source": [
    "import numpy as np\n",
    "import pandas as pd\n",
    "\n",
    "import warnings\n",
    "warnings.filterwarnings('ignore')\n",
    "\n",
    "from tqdm import tqdm_notebook"
   ]
  },
  {
   "cell_type": "code",
   "execution_count": 2,
   "metadata": {},
   "outputs": [],
   "source": [
    "route_station = pd.read_csv('./data/PJT001_routestationinfo.csv')"
   ]
  },
  {
   "cell_type": "markdown",
   "metadata": {},
   "source": [
    "## 1. only_hw_busroute.csv\n",
    "'화성시'만 지나는 버스 데이터 추출  \n",
    "\n",
    "- 방법 : 정류장 고유번호 9자리 중 앞 3자리가 '233'와 같은 행만 추출하고자 함."
   ]
  },
  {
   "cell_type": "code",
   "execution_count": 3,
   "metadata": {},
   "outputs": [
    {
     "data": {
      "application/vnd.jupyter.widget-view+json": {
       "model_id": "98f815bb331c48bcbd822d36e72752ed",
       "version_major": 2,
       "version_minor": 0
      },
      "text/plain": [
       "HBox(children=(IntProgress(value=0, max=37831), HTML(value='')))"
      ]
     },
     "metadata": {},
     "output_type": "display_data"
    },
    {
     "name": "stdout",
     "output_type": "stream",
     "text": [
      "\n"
     ]
    }
   ],
   "source": [
    "only_hw_busroute = pd.DataFrame()\n",
    "\n",
    "for i in tqdm_notebook(range(len(route_station))):\n",
    "    if route_station.at[i, 'station_id'].astype(str)[:3] == '233':\n",
    "        only_hw_busroute = only_hw_busroute.append(route_station.iloc[[i]])"
   ]
  },
  {
   "cell_type": "markdown",
   "metadata": {},
   "source": [
    "'화성시'만 지나는 버스 데이터 csv file로 제작"
   ]
  },
  {
   "cell_type": "code",
   "execution_count": 4,
   "metadata": {},
   "outputs": [],
   "source": [
    "# '화성시'만 지나는 버스 데이터 csv file로 제작\n",
    "only_hw_busroute.to_csv('./data/only_hw_busroute.csv')"
   ]
  },
  {
   "cell_type": "markdown",
   "metadata": {},
   "source": [
    "## 2. all_hw_busroute.csv\n",
    "'화성시'를 지나는 버스 노선 모두 추출  \n",
    "\n",
    "- 방법 : 버스 노선 고유번호를 이용하여 추출하고자 함."
   ]
  },
  {
   "cell_type": "code",
   "execution_count": 5,
   "metadata": {},
   "outputs": [],
   "source": [
    "hw_bus_eigen = list(set(only_hw_busroute['pr_station_id'].unique()))"
   ]
  },
  {
   "cell_type": "code",
   "execution_count": 6,
   "metadata": {},
   "outputs": [
    {
     "data": {
      "application/vnd.jupyter.widget-view+json": {
       "model_id": "94e192d9e6574e399305dd87bf39562c",
       "version_major": 2,
       "version_minor": 0
      },
      "text/plain": [
       "HBox(children=(IntProgress(value=0, max=37831), HTML(value='')))"
      ]
     },
     "metadata": {},
     "output_type": "display_data"
    },
    {
     "name": "stdout",
     "output_type": "stream",
     "text": [
      "\n"
     ]
    }
   ],
   "source": [
    "all_hw_busroute = pd.DataFrame()\n",
    "\n",
    "for i in tqdm_notebook(range(len(route_station))):\n",
    "    if route_station.at[i, 'pr_station_id'] in hw_bus_eigen:\n",
    "        all_hw_busroute = all_hw_busroute.append(route_station.iloc[[i]])"
   ]
  },
  {
   "cell_type": "markdown",
   "metadata": {},
   "source": [
    "'화성시'를 지나는 버스 노선 데이터 csv file로 제작"
   ]
  },
  {
   "cell_type": "code",
   "execution_count": 7,
   "metadata": {},
   "outputs": [],
   "source": [
    "# '화성시'를 지나는 버스 노선 데이터 csv file로 제작\n",
    "all_hw_busroute.to_csv('./data/all_hw_busroute.csv')"
   ]
  },
  {
   "cell_type": "markdown",
   "metadata": {},
   "source": [
    "## 3. merge_hw_RouteStation.csv\n",
    "'화성시'를 지나는 버스 노선에 대해 정류소 정보를 merge한 후, 노선분류  \n",
    "노선 : 마을, 시내, 광역, 시외, 공항으로 구분"
   ]
  },
  {
   "cell_type": "code",
   "execution_count": 8,
   "metadata": {},
   "outputs": [],
   "source": [
    "# 위 과정에서 작성한 '화성시'를 지나는 버스 노선 데이터 로드\n",
    "all_hw_busroute = pd.read_csv('./data/all_hw_busroute.csv')\n",
    "# 필요 없는 column 제거\n",
    "busroute_essential = all_hw_busroute.drop(['Unnamed: 0', 'seq', 'mobile_no'], axis = 1)\n",
    "# 변수명 직관적으로 변경\n",
    "busroute_essential.rename(columns = {'station_nm' : '정류소명', 'station_id' : '표준정류장ID'},inplace = True)\n",
    "# 버스 정류장 테이블 로드\n",
    "stationinfo = pd.read_csv('./data/PJT001_stations_table.csv')\n",
    "# 필요없는 열 제거\n",
    "stationinfo_essential = stationinfo.drop(['중앙차로여부', '모바일정류장ID', '이비카드정류장ID', '정류소영문명'], axis = 1)\n",
    "# 표준정류장ID 기준으로 merge\n",
    "total = pd.merge(busroute_essential, stationinfo_essential, on = '표준정류장ID')"
   ]
  },
  {
   "cell_type": "markdown",
   "metadata": {},
   "source": [
    "직접 노선을 찾아 노선을 분류"
   ]
  },
  {
   "cell_type": "code",
   "execution_count": 9,
   "metadata": {},
   "outputs": [],
   "source": [
    "bus_classification = pd.read_csv('./data/노선분류.txt', sep = '\\t', encoding = 'CP949')"
   ]
  },
  {
   "cell_type": "code",
   "execution_count": 10,
   "metadata": {},
   "outputs": [],
   "source": [
    "Village = bus_classification['마을']\n",
    "Town = bus_classification['시내']\n",
    "Urban = bus_classification['광역']\n",
    "Countryside = bus_classification['시외']\n",
    "Airport = bus_classification['공항']\n",
    "\n",
    "Countryside.dropna(inplace = True)\n",
    "\n",
    "\n",
    "Countryside = Countryside.astype(int).astype(str)\n",
    "\n",
    "Village.dropna(inplace = True) # 138\n",
    "Town.dropna(inplace = True) # 136\n",
    "Urban.dropna(inplace = True) # 28\n",
    "Countryside.dropna(inplace = True) # 2\n",
    "Airport.dropna(inplace = True) # 1"
   ]
  },
  {
   "cell_type": "code",
   "execution_count": 11,
   "metadata": {},
   "outputs": [],
   "source": [
    "for i in range(len(total)):\n",
    "    if total.at[i, 'bus_line_no'] in list(Village) :\n",
    "        total.at[i,'버스노선구분'] = '마을'\n",
    "    \n",
    "    elif total.at[i, 'bus_line_no'] in list(Town) :\n",
    "        total.at[i,'버스노선구분'] = '시내'\n",
    "    \n",
    "    elif total.at[i,'bus_line_no'] in list(Urban) :\n",
    "        total.at[i,'버스노선구분'] = '광역'\n",
    "    \n",
    "    elif total.at[i, 'bus_line_no'] in list(Countryside) :\n",
    "        total.at[i,'버스노선구분'] = '시외'\n",
    "    \n",
    "    elif total.at[i, 'bus_line_no'] in list(Airport) :\n",
    "        total.at[i,'버스노선구분'] = '공항'\n",
    "    \n",
    "    else :\n",
    "        total.at[i,'버스노선구분'] = '?'"
   ]
  },
  {
   "cell_type": "markdown",
   "metadata": {},
   "source": [
    "bus_line_no가 중복되는 경우 종종 발생"
   ]
  },
  {
   "cell_type": "code",
   "execution_count": 12,
   "metadata": {},
   "outputs": [],
   "source": [
    "temp = total"
   ]
  },
  {
   "cell_type": "code",
   "execution_count": 13,
   "metadata": {},
   "outputs": [],
   "source": [
    "# 화성시 버스 번호들만 추출하여 temp_bus 변수에 저장\n",
    "temp_bus = temp['bus_line_no'].unique()"
   ]
  },
  {
   "cell_type": "code",
   "execution_count": 14,
   "metadata": {},
   "outputs": [],
   "source": [
    "# 화성시 버스 번호가 중복되는 해당 버스의 고유ID만 hw_overlap_bus_eigen 변수에 저장\n",
    "hw_overlap_bus_eigen = []\n",
    "\n",
    "for i in temp_bus:\n",
    "    if len(temp['pr_station_id'][temp['bus_line_no'] == i].unique()) > 1:\n",
    "        hw_overlap_bus_eigen.append(list(temp['pr_station_id'][temp['bus_line_no'] == i].unique()))"
   ]
  },
  {
   "cell_type": "code",
   "execution_count": 15,
   "metadata": {},
   "outputs": [
    {
     "data": {
      "text/plain": [
       "[[228000204, 233000081],\n",
       " [241317009, 233000274, 241485033],\n",
       " [241489008, 241205008],\n",
       " [241483002, 233000019],\n",
       " [241335006, 233000058],\n",
       " [233000086, 241491008],\n",
       " [241205001, 233000045],\n",
       " [233000025, 241205007],\n",
       " [233000026, 241317002],\n",
       " [233000044, 241324001],\n",
       " [233000060, 241323002],\n",
       " [233000080, 241483018],\n",
       " [233000096, 241324002],\n",
       " [233000056, 241205003],\n",
       " [241485006, 241323004],\n",
       " [241485018, 233000064]]"
      ]
     },
     "execution_count": 15,
     "metadata": {},
     "output_type": "execute_result"
    }
   ],
   "source": [
    "hw_overlap_bus_eigen"
   ]
  },
  {
   "cell_type": "code",
   "execution_count": 16,
   "metadata": {},
   "outputs": [],
   "source": [
    "# hw_overlap_bus_eigen를 리스트로 변환하여 hw_overlap_bus_pr_id 변수에 저장\n",
    "hw_overlap_bus_pr_id = sum(hw_overlap_bus_eigen, [])"
   ]
  },
  {
   "cell_type": "code",
   "execution_count": 17,
   "metadata": {},
   "outputs": [
    {
     "data": {
      "application/vnd.jupyter.widget-view+json": {
       "model_id": "b31fe33e8dea4fd3be445cf763aee497",
       "version_major": 2,
       "version_minor": 0
      },
      "text/plain": [
       "HBox(children=(IntProgress(value=0, max=12947), HTML(value='')))"
      ]
     },
     "metadata": {},
     "output_type": "display_data"
    },
    {
     "name": "stdout",
     "output_type": "stream",
     "text": [
      "\n"
     ]
    }
   ],
   "source": [
    "# 화성시 버스 번호가 중복되는 해당 버스의 고유ID의 노선만 추출하여 데이터프레임화\n",
    "hw_overlap_bus = pd.DataFrame()\n",
    "\n",
    "for i in tqdm_notebook(range(len(temp))):\n",
    "    if temp['pr_station_id'][i] in hw_overlap_bus_pr_id:\n",
    "        hw_overlap_bus = hw_overlap_bus.append(temp.iloc[[i]])"
   ]
  },
  {
   "cell_type": "code",
   "execution_count": 18,
   "metadata": {},
   "outputs": [
    {
     "data": {
      "text/plain": [
       "array(['24', '39', '9-1', '5-2', '7', '38', '6-3', '9', '19', '17',\n",
       "       '11-2', '21', '27', '7-1', '12', '10'], dtype=object)"
      ]
     },
     "execution_count": 18,
     "metadata": {},
     "output_type": "execute_result"
    }
   ],
   "source": [
    "# 화성시 버스 번호가 중복되는 버스 번호 살펴보기\n",
    "hw_overlap_bus['bus_line_no'].unique()"
   ]
  },
  {
   "cell_type": "code",
   "execution_count": 19,
   "metadata": {},
   "outputs": [
    {
     "name": "stdout",
     "output_type": "stream",
     "text": [
      "24   : [228000204, 233000081]\n",
      "39   : [241317009, 233000274, 241485033]\n",
      "9-1  : [241489008, 241205008]\n",
      "5-2  : [241483002, 233000019]\n",
      "7    : [241335006, 233000058]\n",
      "38   : [233000086, 241491008]\n",
      "6-3  : [241205001, 233000045]\n",
      "9    : [233000025, 241205007]\n",
      "19   : [233000026, 241317002]\n",
      "17   : [233000044, 241324001]\n",
      "11-2 : [233000060, 241323002]\n",
      "21   : [233000080, 241483018]\n",
      "27   : [233000096, 241324002]\n",
      "7-1  : [233000056, 241205003]\n",
      "12   : [241485006, 241323004]\n",
      "10   : [241485018, 233000064]\n"
     ]
    }
   ],
   "source": [
    "# 화성시 버스 번호가 중복되는 데이터 정리\n",
    "for i in range(len(hw_overlap_bus_eigen)):\n",
    "    print('{0:<4} : {1}'.format(hw_overlap_bus['bus_line_no'].unique()[i], hw_overlap_bus_eigen[i]))"
   ]
  },
  {
   "cell_type": "code",
   "execution_count": 20,
   "metadata": {},
   "outputs": [],
   "source": [
    "# bus_line_no 가 중복될 경우 구분\n",
    "# 10 \n",
    "total.loc[(total['pr_station_id'] == 233000064), '버스노선구분'] = '시내'\n",
    "total.loc[(total['pr_station_id'] == 241485018), '버스노선구분'] = '마을'\n",
    "\n",
    "# 11-2\n",
    "total.loc[(total['pr_station_id'] == 233000062), '버스노선구분'] = '시내'\n",
    "total.loc[(total['pr_station_id'] == 241323002), '버스노선구분'] = '마을'\n",
    "\n",
    "# 17\n",
    "total.loc[(total['pr_station_id'] == 233000044), '버스노선구분'] = '시내'\n",
    "total.loc[(total['pr_station_id'] == 241324001), '버스노선구분'] = '마을'\n",
    "\n",
    "# 19 \n",
    "total.loc[(total['pr_station_id'] == 233000026), '버스노선구분'] = '시내'\n",
    "total.loc[(total['pr_station_id'] == 241317002), '버스노선구분'] = '마을'\n",
    "\n",
    "# 27\n",
    "total.loc[(total['pr_station_id'] == 233000096), '버스노선구분'] = '시내'\n",
    "total.loc[(total['pr_station_id'] == 241324002), '버스노선구분'] = '마을'\n",
    "\n",
    "# 38\n",
    "total.loc[(total['pr_station_id'] == 233000086), '버스노선구분'] = '시내'\n",
    "total.loc[(total['pr_station_id'] == 241491008), '버스노선구분'] = '마을'\n",
    "\n",
    "# 39\n",
    "total.loc[(total['pr_station_id'] == 233000074), '버스노선구분'] = '시내'\n",
    "total.loc[(total['pr_station_id'] == 241317009), '버스노선구분'] = '마을'\n",
    "total.loc[(total['pr_station_id'] == 241485033), '버스노선구분'] = '마을'\n",
    "\n",
    "# 6-3\n",
    "total.loc[(total['pr_station_id'] == 233000045), '버스노선구분'] = '시내'\n",
    "total.loc[(total['pr_station_id'] == 241205001), '버스노선구분'] = '마을'\n",
    "\n",
    "# 7\n",
    "total.loc[(total['pr_station_id'] == 233000058), '버스노선구분'] = '시내'\n",
    "total.loc[(total['pr_station_id'] == 241335006), '버스노선구분'] = '마을'\n",
    "\n",
    "# 9 \n",
    "total.loc[(total['pr_station_id'] == 233000025), '버스노선구분'] = '시내'\n",
    "total.loc[(total['pr_station_id'] == 241205007), '버스노선구분'] = '마을'\n",
    "\n",
    "# 7-1\n",
    "total.loc[(total['pr_station_id'] == 233000056), '버스노선구분'] = '시내'\n",
    "total.loc[(total['pr_station_id'] == 241205003), '버스노선구분'] = '마을'"
   ]
  },
  {
   "cell_type": "code",
   "execution_count": 21,
   "metadata": {},
   "outputs": [
    {
     "data": {
      "text/plain": [
       "array(['29', '11-3'], dtype=object)"
      ]
     },
     "execution_count": 21,
     "metadata": {},
     "output_type": "execute_result"
    }
   ],
   "source": [
    "# 구분하지 않은 버스 노선은 없는지 확인\n",
    "total[total['버스노선구분'] == '?']['bus_line_no'].unique()"
   ]
  },
  {
   "cell_type": "code",
   "execution_count": 22,
   "metadata": {},
   "outputs": [],
   "source": [
    "# 29, 11-3번 노선은 없는 노선이라 제외\n",
    "total = total[total['버스노선구분'] != '?']\n",
    "total.drop('정류소명_y', axis = 1, inplace = True)\n",
    "total.rename(columns = {'정류소명_x':'정류소명'}, inplace = True)"
   ]
  },
  {
   "cell_type": "code",
   "execution_count": 23,
   "metadata": {},
   "outputs": [
    {
     "name": "stderr",
     "output_type": "stream",
     "text": [
      "b'Skipping line 182: expected 3 fields, saw 4\\n'\n"
     ]
    },
    {
     "data": {
      "text/html": [
       "<div>\n",
       "<style scoped>\n",
       "    .dataframe tbody tr th:only-of-type {\n",
       "        vertical-align: middle;\n",
       "    }\n",
       "\n",
       "    .dataframe tbody tr th {\n",
       "        vertical-align: top;\n",
       "    }\n",
       "\n",
       "    .dataframe thead th {\n",
       "        text-align: right;\n",
       "    }\n",
       "</style>\n",
       "<table border=\"1\" class=\"dataframe\">\n",
       "  <thead>\n",
       "    <tr style=\"text-align: right;\">\n",
       "      <th></th>\n",
       "      <th>정류소명</th>\n",
       "      <th>WGS84위도</th>\n",
       "      <th>WGS84경도</th>\n",
       "    </tr>\n",
       "  </thead>\n",
       "  <tbody>\n",
       "    <tr>\n",
       "      <td>0</td>\n",
       "      <td>마니커입구삼거리</td>\n",
       "      <td>37.150824</td>\n",
       "      <td>127.204074</td>\n",
       "    </tr>\n",
       "    <tr>\n",
       "      <td>1</td>\n",
       "      <td>자이파밀리에</td>\n",
       "      <td>37.159393</td>\n",
       "      <td>127.105963</td>\n",
       "    </tr>\n",
       "    <tr>\n",
       "      <td>2</td>\n",
       "      <td>롯데캐슬.제일풍경채</td>\n",
       "      <td>37.157945</td>\n",
       "      <td>127.108970</td>\n",
       "    </tr>\n",
       "    <tr>\n",
       "      <td>3</td>\n",
       "      <td>에이스카운티</td>\n",
       "      <td>37.202422</td>\n",
       "      <td>127.209194</td>\n",
       "    </tr>\n",
       "    <tr>\n",
       "      <td>4</td>\n",
       "      <td>백학IC(경유)</td>\n",
       "      <td>37.225456</td>\n",
       "      <td>126.879367</td>\n",
       "    </tr>\n",
       "    <tr>\n",
       "      <td>...</td>\n",
       "      <td>...</td>\n",
       "      <td>...</td>\n",
       "      <td>...</td>\n",
       "    </tr>\n",
       "    <tr>\n",
       "      <td>188</td>\n",
       "      <td>봉담한신아파트후문</td>\n",
       "      <td>37.215682</td>\n",
       "      <td>126.949127</td>\n",
       "    </tr>\n",
       "    <tr>\n",
       "      <td>189</td>\n",
       "      <td>봉담초</td>\n",
       "      <td>37.224103</td>\n",
       "      <td>126.947034</td>\n",
       "    </tr>\n",
       "    <tr>\n",
       "      <td>190</td>\n",
       "      <td>우방아파트앞</td>\n",
       "      <td>37.201570</td>\n",
       "      <td>127.007198</td>\n",
       "    </tr>\n",
       "    <tr>\n",
       "      <td>191</td>\n",
       "      <td>신한미지엔정문</td>\n",
       "      <td>37.201569</td>\n",
       "      <td>127.006386</td>\n",
       "    </tr>\n",
       "    <tr>\n",
       "      <td>192</td>\n",
       "      <td>신창2차비</td>\n",
       "      <td>37.209784</td>\n",
       "      <td>127.047673</td>\n",
       "    </tr>\n",
       "  </tbody>\n",
       "</table>\n",
       "<p>193 rows × 3 columns</p>\n",
       "</div>"
      ],
      "text/plain": [
       "           정류소명    WGS84위도     WGS84경도\n",
       "0      마니커입구삼거리  37.150824  127.204074\n",
       "1        자이파밀리에  37.159393  127.105963\n",
       "2    롯데캐슬.제일풍경채  37.157945  127.108970\n",
       "3        에이스카운티  37.202422  127.209194\n",
       "4      백학IC(경유)  37.225456  126.879367\n",
       "..          ...        ...         ...\n",
       "188   봉담한신아파트후문  37.215682  126.949127\n",
       "189         봉담초  37.224103  126.947034\n",
       "190      우방아파트앞  37.201570  127.007198\n",
       "191     신한미지엔정문  37.201569  127.006386\n",
       "192       신창2차비  37.209784  127.047673\n",
       "\n",
       "[193 rows x 3 columns]"
      ]
     },
     "execution_count": 23,
     "metadata": {},
     "output_type": "execute_result"
    }
   ],
   "source": [
    "station_loc = pd.read_csv('./data/정류장위치정보(결측치).txt', sep = '\\t', error_bad_lines=False)\n",
    "# 3 개가 안들어감\n",
    "station_loc.rename(columns={'장소명' : '정류소명', '위도' : 'WGS84위도', '경도' : 'WGS84경도'}, inplace = True)\n",
    "station_loc"
   ]
  },
  {
   "cell_type": "code",
   "execution_count": 24,
   "metadata": {},
   "outputs": [],
   "source": [
    "for i in range(len(station_loc)):\n",
    "    tmp = station_loc.loc[i,\"정류소명\"]\n",
    "    total.loc[total['정류소명']==tmp,\"WGS84위도\"] = station_loc.loc[i,\"WGS84위도\"]\n",
    "    total.loc[total['정류소명']==tmp,\"WGS84경도\"] = station_loc.loc[i,\"WGS84경도\"]"
   ]
  },
  {
   "cell_type": "code",
   "execution_count": 25,
   "metadata": {},
   "outputs": [
    {
     "data": {
      "text/plain": [
       "array(['양우내안애(경유)', '용건릉(경유)', '서연초.제일풍경채', '삼부실교차로(경유)', '장전출발(경유)',\n",
       "       '장전도착(경유)', '신창2차비바패밀리', '원룸단지앞'], dtype=object)"
      ]
     },
     "execution_count": 25,
     "metadata": {},
     "output_type": "execute_result"
    }
   ],
   "source": [
    "total[total['WGS84위도'].isna()]['정류소명'].unique()"
   ]
  },
  {
   "cell_type": "code",
   "execution_count": null,
   "metadata": {},
   "outputs": [],
   "source": [
    "# (경유) 정류장은 결측치 유지\n",
    "# 필요한 정류장은 직접 위 경도 확인\n",
    "\n",
    "# 서연초.제일풍경채 37.159319,127.1109993\n",
    "# 신창2차비바패밀리 37.208789,127.0453479\n",
    "# 원룸단지앞 37.215715,127.0376103"
   ]
  },
  {
   "cell_type": "code",
   "execution_count": 26,
   "metadata": {},
   "outputs": [],
   "source": [
    "total.loc[total['정류소명']=='서연초.제일풍경채',\"WGS84위도\"] = 37.159319\n",
    "total.loc[total['정류소명']=='서연초.제일풍경채',\"WGS84경도\"] = 127.1109993\n",
    "\n",
    "total.loc[total['정류소명']=='신창2차비바패밀리',\"WGS84위도\"] = 37.208789\n",
    "total.loc[total['정류소명']=='신창2차비바패밀리',\"WGS84경도\"] = 127.0453479\n",
    "\n",
    "total.loc[total['정류소명']=='원룸단지앞',\"WGS84위도\"] = 37.215715\n",
    "total.loc[total['정류소명']=='원룸단지앞',\"WGS84경도\"] = 127.0376103"
   ]
  },
  {
   "cell_type": "code",
   "execution_count": null,
   "metadata": {},
   "outputs": [],
   "source": [
    "# .csv 데이터생성\n",
    "total.to_csv('./data/merge_hw_RouteStation.csv')"
   ]
  },
  {
   "cell_type": "markdown",
   "metadata": {},
   "source": [
    "## ODdata3, ODdata3_1\n",
    "\n",
    "2018년 7월 3일 트립체인 OD데이터 전처리\n",
    "\n",
    "- ODdata3 : 2018년 7월 3일 수집건수 분류 X 데이터\n",
    "- ODdata3_1 : 2018년 7월 3일 수집건수 = 1 데이터\n"
   ]
  },
  {
   "cell_type": "markdown",
   "metadata": {},
   "source": [
    "## 4. ODdata3"
   ]
  },
  {
   "cell_type": "code",
   "execution_count": 28,
   "metadata": {},
   "outputs": [],
   "source": [
    "df_tripchain = pd.read_csv('./data/PJT001_TripChain.csv')"
   ]
  },
  {
   "cell_type": "markdown",
   "metadata": {},
   "source": [
    "### column명 재설정 필요"
   ]
  },
  {
   "cell_type": "code",
   "execution_count": 29,
   "metadata": {},
   "outputs": [],
   "source": [
    "# mydict[new_key] = mydict.pop(old_key) 활용\n",
    "\n",
    "keys = df_tripchain.keys()\n",
    "keys[1][1:-1]\n",
    "for i in range(1, len(keys)-1):\n",
    "    df_tripchain[keys[i][3:-3]] = df_tripchain.pop('\\''+keys[i][1:-1]+'\\'')"
   ]
  },
  {
   "cell_type": "code",
   "execution_count": 30,
   "metadata": {},
   "outputs": [],
   "source": [
    "df_tripchain['암호화카드번호'] = df_tripchain.pop('암호화카드번호||\\'')\n",
    "df_tripchain['트립체인완료코드'] = df_tripchain.pop('\\'||트립체인완료코드')"
   ]
  },
  {
   "cell_type": "markdown",
   "metadata": {},
   "source": [
    "날짜 포멧이 제 각각  \n",
    "모두 datetime 포맷으로 바꾸면, 용량이 너무 커질 것이므로 필요한 열인 최초 하차일시만 datetime 형태로 바꿈."
   ]
  },
  {
   "cell_type": "code",
   "execution_count": 31,
   "metadata": {},
   "outputs": [],
   "source": [
    "df_tripchain['최종하차일시'] = pd.to_datetime(df_tripchain['최종하차일시'], errors = 'coerce')"
   ]
  },
  {
   "cell_type": "markdown",
   "metadata": {},
   "source": [
    "버스 이용시간을 버스 최종하차 기준으로 잡으려고 한다.  \n",
    "따라서 최종하차일시가 결측된 데이터는 데이터에서 제거해준다."
   ]
  },
  {
   "cell_type": "code",
   "execution_count": 32,
   "metadata": {},
   "outputs": [
    {
     "name": "stdout",
     "output_type": "stream",
     "text": [
      "1048575 -> 1036746 (0.01)\n"
     ]
    }
   ],
   "source": [
    "before = len(df_tripchain)\n",
    "df_tripchain.dropna(subset = ['최종하차일시'], inplace = True)\n",
    "after = len(df_tripchain)\n",
    "\n",
    "print(\"{} -> {} ({:.2f})\".format(before, after, (before - after)/before))"
   ]
  },
  {
   "cell_type": "markdown",
   "metadata": {},
   "source": [
    "1% 데이터만 소실됐다."
   ]
  },
  {
   "cell_type": "markdown",
   "metadata": {},
   "source": [
    "### 특정 날짜 데이터\n",
    "\n",
    "몇일의 데이터가 있는지 확인"
   ]
  },
  {
   "cell_type": "code",
   "execution_count": 33,
   "metadata": {},
   "outputs": [
    {
     "data": {
      "text/plain": [
       "1    177387\n",
       "2    360373\n",
       "3    399390\n",
       "4     98971\n",
       "5       625\n",
       "Name: 최종하차일시, dtype: int64"
      ]
     },
     "execution_count": 33,
     "metadata": {},
     "output_type": "execute_result"
    }
   ],
   "source": [
    "df_tripchain['최종하차일시'].dt.day.value_counts().sort_index()"
   ]
  },
  {
   "cell_type": "markdown",
   "metadata": {},
   "source": [
    "2018년 7월 1일 ~ 5일 까지의 데이터가 있음을 확인 (하차날짜 기준)  \n",
    "이 중에서, 데이터가 가장 많은 **2018년 7월 3일** 데이터만 사용  "
   ]
  },
  {
   "cell_type": "code",
   "execution_count": 34,
   "metadata": {},
   "outputs": [],
   "source": [
    "df = df_tripchain[df_tripchain['최종하차일시'].dt.day == 3].reset_index(drop = True)"
   ]
  },
  {
   "cell_type": "markdown",
   "metadata": {},
   "source": [
    "이 데이터의 핵심은 승차와 하차에 대한 정보가 담겨있는 것이다.  \n",
    "위 데이터를 잘 살펴보면 최초 승차역 ID가 대부분 결측값이지만, 승차역 ID1가 대체로 동일함을 알 수 있다.  \n",
    "따라서, 최초승차역 ID의 값들을 다음과 같이 채워준다."
   ]
  },
  {
   "cell_type": "code",
   "execution_count": 35,
   "metadata": {},
   "outputs": [],
   "source": [
    "df['최초승차역ID'] = df['승차역ID1']"
   ]
  },
  {
   "cell_type": "markdown",
   "metadata": {},
   "source": [
    "승차역과 하차역에 대한 결측치를 살펴본다."
   ]
  },
  {
   "cell_type": "code",
   "execution_count": 36,
   "metadata": {},
   "outputs": [
    {
     "name": "stdout",
     "output_type": "stream",
     "text": [
      "16\n",
      "1135\n"
     ]
    }
   ],
   "source": [
    "print(df['최초승차역ID'].isna().sum())\n",
    "print(df['최종하차역ID'].isna().sum())"
   ]
  },
  {
   "cell_type": "markdown",
   "metadata": {},
   "source": [
    "전체에 비하면 매우 적은양이기 때문에 결측 값을 가지는 데이터는 모두 드랍."
   ]
  },
  {
   "cell_type": "code",
   "execution_count": 37,
   "metadata": {},
   "outputs": [
    {
     "name": "stdout",
     "output_type": "stream",
     "text": [
      "399390 -> 398249 (0.00)\n"
     ]
    }
   ],
   "source": [
    "before = len(df)\n",
    "df.dropna(subset=['최초승차역ID', '최종하차역ID'], inplace=True)\n",
    "after = len(df)\n",
    "\n",
    "print(\"{} -> {} ({:.2f})\".format(before, after, (before-after)/before))"
   ]
  },
  {
   "cell_type": "markdown",
   "metadata": {},
   "source": [
    "드랍된 데이터가 1% 미만임"
   ]
  },
  {
   "cell_type": "markdown",
   "metadata": {},
   "source": [
    "### OD 시각화 by 정류장\n",
    "### 정류장 테이블과 합치기\n",
    "승차 정류장에서 하차 정류장으로 가는 이동을 시각화 \n",
    "\n",
    "데이터 프레임 만들기"
   ]
  },
  {
   "cell_type": "code",
   "execution_count": 39,
   "metadata": {},
   "outputs": [
    {
     "data": {
      "text/html": [
       "<div>\n",
       "<style scoped>\n",
       "    .dataframe tbody tr th:only-of-type {\n",
       "        vertical-align: middle;\n",
       "    }\n",
       "\n",
       "    .dataframe tbody tr th {\n",
       "        vertical-align: top;\n",
       "    }\n",
       "\n",
       "    .dataframe thead th {\n",
       "        text-align: right;\n",
       "    }\n",
       "</style>\n",
       "<table border=\"1\" class=\"dataframe\">\n",
       "  <thead>\n",
       "    <tr style=\"text-align: right;\">\n",
       "      <th></th>\n",
       "      <th>최초승차역ID</th>\n",
       "      <th>최종하차역ID</th>\n",
       "      <th>이용량</th>\n",
       "    </tr>\n",
       "  </thead>\n",
       "  <tbody>\n",
       "    <tr>\n",
       "      <td>0</td>\n",
       "      <td>150.0</td>\n",
       "      <td>4100042.0</td>\n",
       "      <td>1</td>\n",
       "    </tr>\n",
       "    <tr>\n",
       "      <td>1</td>\n",
       "      <td>150.0</td>\n",
       "      <td>4100051.0</td>\n",
       "      <td>1</td>\n",
       "    </tr>\n",
       "    <tr>\n",
       "      <td>2</td>\n",
       "      <td>150.0</td>\n",
       "      <td>4100068.0</td>\n",
       "      <td>1</td>\n",
       "    </tr>\n",
       "    <tr>\n",
       "      <td>3</td>\n",
       "      <td>150.0</td>\n",
       "      <td>4100077.0</td>\n",
       "      <td>1</td>\n",
       "    </tr>\n",
       "    <tr>\n",
       "      <td>4</td>\n",
       "      <td>150.0</td>\n",
       "      <td>4100083.0</td>\n",
       "      <td>1</td>\n",
       "    </tr>\n",
       "  </tbody>\n",
       "</table>\n",
       "</div>"
      ],
      "text/plain": [
       "   최초승차역ID    최종하차역ID  이용량\n",
       "0    150.0  4100042.0    1\n",
       "1    150.0  4100051.0    1\n",
       "2    150.0  4100068.0    1\n",
       "3    150.0  4100077.0    1\n",
       "4    150.0  4100083.0    1"
      ]
     },
     "execution_count": 39,
     "metadata": {},
     "output_type": "execute_result"
    }
   ],
   "source": [
    "### 수집건수 분류 x ###\n",
    "df_from_to = df.groupby(['최초승차역ID', '최종하차역ID']).size().to_frame().reset_index()\n",
    "df_from_to.rename({0: \"이용량\"}, axis=1, inplace=True)\n",
    "df_from_to.head(5)"
   ]
  },
  {
   "cell_type": "code",
   "execution_count": 40,
   "metadata": {},
   "outputs": [],
   "source": [
    "df_stations = pd.read_csv('./data/PJT001_stations_table.csv')"
   ]
  },
  {
   "cell_type": "code",
   "execution_count": 41,
   "metadata": {},
   "outputs": [
    {
     "data": {
      "text/html": [
       "<div>\n",
       "<style scoped>\n",
       "    .dataframe tbody tr th:only-of-type {\n",
       "        vertical-align: middle;\n",
       "    }\n",
       "\n",
       "    .dataframe tbody tr th {\n",
       "        vertical-align: top;\n",
       "    }\n",
       "\n",
       "    .dataframe thead th {\n",
       "        text-align: right;\n",
       "    }\n",
       "</style>\n",
       "<table border=\"1\" class=\"dataframe\">\n",
       "  <thead>\n",
       "    <tr style=\"text-align: right;\">\n",
       "      <th></th>\n",
       "      <th>최초승차역ID</th>\n",
       "      <th>최종하차역ID</th>\n",
       "      <th>이용량</th>\n",
       "      <th>이비카드정류장ID_승차</th>\n",
       "      <th>정류소명_승차</th>\n",
       "      <th>표준정류장ID_승차</th>\n",
       "      <th>WGS84위도_승차</th>\n",
       "      <th>WGS84경도_승차</th>\n",
       "      <th>관할관청_승차</th>\n",
       "      <th>이비카드정류장ID_하차</th>\n",
       "      <th>정류소명_하차</th>\n",
       "      <th>표준정류장ID_하차</th>\n",
       "      <th>WGS84위도_하차</th>\n",
       "      <th>WGS84경도_하차</th>\n",
       "      <th>관할관청_하차</th>\n",
       "    </tr>\n",
       "  </thead>\n",
       "  <tbody>\n",
       "    <tr>\n",
       "      <td>0</td>\n",
       "      <td>150.0</td>\n",
       "      <td>4100042.0</td>\n",
       "      <td>1</td>\n",
       "      <td>NaN</td>\n",
       "      <td>NaN</td>\n",
       "      <td>NaN</td>\n",
       "      <td>NaN</td>\n",
       "      <td>NaN</td>\n",
       "      <td>NaN</td>\n",
       "      <td>NaN</td>\n",
       "      <td>NaN</td>\n",
       "      <td>NaN</td>\n",
       "      <td>NaN</td>\n",
       "      <td>NaN</td>\n",
       "      <td>NaN</td>\n",
       "    </tr>\n",
       "    <tr>\n",
       "      <td>1</td>\n",
       "      <td>150.0</td>\n",
       "      <td>4100051.0</td>\n",
       "      <td>1</td>\n",
       "      <td>NaN</td>\n",
       "      <td>NaN</td>\n",
       "      <td>NaN</td>\n",
       "      <td>NaN</td>\n",
       "      <td>NaN</td>\n",
       "      <td>NaN</td>\n",
       "      <td>4100051.0</td>\n",
       "      <td>동부출장소.병점초등학교</td>\n",
       "      <td>233000708.0</td>\n",
       "      <td>37.208800</td>\n",
       "      <td>127.034433</td>\n",
       "      <td>경기도 화성시</td>\n",
       "    </tr>\n",
       "    <tr>\n",
       "      <td>2</td>\n",
       "      <td>150.0</td>\n",
       "      <td>4100068.0</td>\n",
       "      <td>1</td>\n",
       "      <td>NaN</td>\n",
       "      <td>NaN</td>\n",
       "      <td>NaN</td>\n",
       "      <td>NaN</td>\n",
       "      <td>NaN</td>\n",
       "      <td>NaN</td>\n",
       "      <td>4100068.0</td>\n",
       "      <td>호계2동주민센터</td>\n",
       "      <td>209000126.0</td>\n",
       "      <td>37.382017</td>\n",
       "      <td>126.952783</td>\n",
       "      <td>경기도 안양시</td>\n",
       "    </tr>\n",
       "    <tr>\n",
       "      <td>3</td>\n",
       "      <td>150.0</td>\n",
       "      <td>4100077.0</td>\n",
       "      <td>1</td>\n",
       "      <td>NaN</td>\n",
       "      <td>NaN</td>\n",
       "      <td>NaN</td>\n",
       "      <td>NaN</td>\n",
       "      <td>NaN</td>\n",
       "      <td>NaN</td>\n",
       "      <td>4100077.0</td>\n",
       "      <td>비상활주로.곡반정동입구</td>\n",
       "      <td>201000040.0</td>\n",
       "      <td>37.233000</td>\n",
       "      <td>127.021367</td>\n",
       "      <td>경기도 수원시</td>\n",
       "    </tr>\n",
       "    <tr>\n",
       "      <td>4</td>\n",
       "      <td>150.0</td>\n",
       "      <td>4100083.0</td>\n",
       "      <td>1</td>\n",
       "      <td>NaN</td>\n",
       "      <td>NaN</td>\n",
       "      <td>NaN</td>\n",
       "      <td>NaN</td>\n",
       "      <td>NaN</td>\n",
       "      <td>NaN</td>\n",
       "      <td>4100083.0</td>\n",
       "      <td>수원버스터미널</td>\n",
       "      <td>201000009.0</td>\n",
       "      <td>37.250950</td>\n",
       "      <td>127.019550</td>\n",
       "      <td>경기도 수원시</td>\n",
       "    </tr>\n",
       "  </tbody>\n",
       "</table>\n",
       "</div>"
      ],
      "text/plain": [
       "   최초승차역ID    최종하차역ID  이용량  이비카드정류장ID_승차 정류소명_승차  표준정류장ID_승차  WGS84위도_승차  \\\n",
       "0    150.0  4100042.0    1           NaN     NaN         NaN         NaN   \n",
       "1    150.0  4100051.0    1           NaN     NaN         NaN         NaN   \n",
       "2    150.0  4100068.0    1           NaN     NaN         NaN         NaN   \n",
       "3    150.0  4100077.0    1           NaN     NaN         NaN         NaN   \n",
       "4    150.0  4100083.0    1           NaN     NaN         NaN         NaN   \n",
       "\n",
       "   WGS84경도_승차 관할관청_승차  이비카드정류장ID_하차       정류소명_하차   표준정류장ID_하차  WGS84위도_하차  \\\n",
       "0         NaN     NaN           NaN           NaN          NaN         NaN   \n",
       "1         NaN     NaN     4100051.0  동부출장소.병점초등학교  233000708.0   37.208800   \n",
       "2         NaN     NaN     4100068.0      호계2동주민센터  209000126.0   37.382017   \n",
       "3         NaN     NaN     4100077.0  비상활주로.곡반정동입구  201000040.0   37.233000   \n",
       "4         NaN     NaN     4100083.0       수원버스터미널  201000009.0   37.250950   \n",
       "\n",
       "   WGS84경도_하차  관할관청_하차  \n",
       "0         NaN      NaN  \n",
       "1  127.034433  경기도 화성시  \n",
       "2  126.952783  경기도 안양시  \n",
       "3  127.021367  경기도 수원시  \n",
       "4  127.019550  경기도 수원시  "
      ]
     },
     "execution_count": 41,
     "metadata": {},
     "output_type": "execute_result"
    }
   ],
   "source": [
    "### 수집건수 분류 x merge ###\n",
    "df_from_to = pd.merge(df_from_to,\n",
    "            df_stations[['이비카드정류장ID', '정류소명', '표준정류장ID', 'WGS84위도', 'WGS84경도', '관할관청']],\n",
    "            left_on='최초승차역ID', right_on='이비카드정류장ID', how='left')\n",
    "\n",
    "df_from_to = pd.merge(df_from_to, \n",
    "            df_stations[['이비카드정류장ID', '정류소명', '표준정류장ID', 'WGS84위도', 'WGS84경도', '관할관청']],\n",
    "            left_on='최종하차역ID', right_on='이비카드정류장ID', how='left',\n",
    "            suffixes=('_승차', '_하차'))\n",
    "df_from_to.head(5)"
   ]
  },
  {
   "cell_type": "markdown",
   "metadata": {},
   "source": [
    "이 중에는 위치정보에 결측치가 있을 수도 있다."
   ]
  },
  {
   "cell_type": "code",
   "execution_count": 42,
   "metadata": {},
   "outputs": [
    {
     "name": "stdout",
     "output_type": "stream",
     "text": [
      "72480 / 186048 (0.39%)\n"
     ]
    }
   ],
   "source": [
    "### 수집건수 분류 x 결측치 확인 ###\n",
    "cols = [col for col in df_from_to.columns if \"WGS\" in col]\n",
    "missing_num = df_from_to[cols].isna().any(axis=1).sum()\n",
    "\n",
    "print(\"{} / {} ({:.2f}%)\".format(missing_num, len(df_from_to), missing_num/len(df_from_to)))"
   ]
  },
  {
   "cell_type": "markdown",
   "metadata": {},
   "source": [
    "약 39%의 결측치가 있다.  \n",
    "지도에 시각화 시킬 수 없으므로, 드랍시키도록 한다."
   ]
  },
  {
   "cell_type": "code",
   "execution_count": 43,
   "metadata": {},
   "outputs": [
    {
     "data": {
      "text/html": [
       "<div>\n",
       "<style scoped>\n",
       "    .dataframe tbody tr th:only-of-type {\n",
       "        vertical-align: middle;\n",
       "    }\n",
       "\n",
       "    .dataframe tbody tr th {\n",
       "        vertical-align: top;\n",
       "    }\n",
       "\n",
       "    .dataframe thead th {\n",
       "        text-align: right;\n",
       "    }\n",
       "</style>\n",
       "<table border=\"1\" class=\"dataframe\">\n",
       "  <thead>\n",
       "    <tr style=\"text-align: right;\">\n",
       "      <th></th>\n",
       "      <th>최초승차역ID</th>\n",
       "      <th>최종하차역ID</th>\n",
       "      <th>이용량</th>\n",
       "      <th>이비카드정류장ID_승차</th>\n",
       "      <th>정류소명_승차</th>\n",
       "      <th>표준정류장ID_승차</th>\n",
       "      <th>WGS84위도_승차</th>\n",
       "      <th>WGS84경도_승차</th>\n",
       "      <th>관할관청_승차</th>\n",
       "      <th>이비카드정류장ID_하차</th>\n",
       "      <th>정류소명_하차</th>\n",
       "      <th>표준정류장ID_하차</th>\n",
       "      <th>WGS84위도_하차</th>\n",
       "      <th>WGS84경도_하차</th>\n",
       "      <th>관할관청_하차</th>\n",
       "    </tr>\n",
       "  </thead>\n",
       "  <tbody>\n",
       "    <tr>\n",
       "      <td>185970</td>\n",
       "      <td>9196637.0</td>\n",
       "      <td>4100565.0</td>\n",
       "      <td>1</td>\n",
       "      <td>9196637.0</td>\n",
       "      <td>율동공원사거리</td>\n",
       "      <td>206000346.0</td>\n",
       "      <td>37.383900</td>\n",
       "      <td>127.150233</td>\n",
       "      <td>경기도 성남시</td>\n",
       "      <td>4100565.0</td>\n",
       "      <td>파크타운.양지마을</td>\n",
       "      <td>206000183.0</td>\n",
       "      <td>37.373967</td>\n",
       "      <td>127.119567</td>\n",
       "      <td>경기도 성남시</td>\n",
       "    </tr>\n",
       "    <tr>\n",
       "      <td>185971</td>\n",
       "      <td>9196637.0</td>\n",
       "      <td>4100566.0</td>\n",
       "      <td>1</td>\n",
       "      <td>9196637.0</td>\n",
       "      <td>율동공원사거리</td>\n",
       "      <td>206000346.0</td>\n",
       "      <td>37.383900</td>\n",
       "      <td>127.150233</td>\n",
       "      <td>경기도 성남시</td>\n",
       "      <td>4100566.0</td>\n",
       "      <td>중앙공원.샛별마을우방아파트</td>\n",
       "      <td>206000184.0</td>\n",
       "      <td>37.372633</td>\n",
       "      <td>127.126183</td>\n",
       "      <td>경기도 성남시</td>\n",
       "    </tr>\n",
       "    <tr>\n",
       "      <td>185972</td>\n",
       "      <td>9196637.0</td>\n",
       "      <td>4116808.0</td>\n",
       "      <td>1</td>\n",
       "      <td>9196637.0</td>\n",
       "      <td>율동공원사거리</td>\n",
       "      <td>206000346.0</td>\n",
       "      <td>37.383900</td>\n",
       "      <td>127.150233</td>\n",
       "      <td>경기도 성남시</td>\n",
       "      <td>4116808.0</td>\n",
       "      <td>여권민원실.풍림아파트</td>\n",
       "      <td>202000054.0</td>\n",
       "      <td>37.287450</td>\n",
       "      <td>127.033083</td>\n",
       "      <td>경기도 수원시</td>\n",
       "    </tr>\n",
       "    <tr>\n",
       "      <td>185973</td>\n",
       "      <td>9196637.0</td>\n",
       "      <td>4150166.0</td>\n",
       "      <td>1</td>\n",
       "      <td>9196637.0</td>\n",
       "      <td>율동공원사거리</td>\n",
       "      <td>206000346.0</td>\n",
       "      <td>37.383900</td>\n",
       "      <td>127.150233</td>\n",
       "      <td>경기도 성남시</td>\n",
       "      <td>4150166.0</td>\n",
       "      <td>벽산아파트</td>\n",
       "      <td>228001144.0</td>\n",
       "      <td>37.334750</td>\n",
       "      <td>127.108717</td>\n",
       "      <td>경기도 용인시</td>\n",
       "    </tr>\n",
       "    <tr>\n",
       "      <td>185974</td>\n",
       "      <td>9196865.0</td>\n",
       "      <td>4108038.0</td>\n",
       "      <td>1</td>\n",
       "      <td>9196865.0</td>\n",
       "      <td>인정피렌체아파트</td>\n",
       "      <td>228001295.0</td>\n",
       "      <td>37.246183</td>\n",
       "      <td>127.229500</td>\n",
       "      <td>경기도 용인시</td>\n",
       "      <td>4108038.0</td>\n",
       "      <td>망포블루밍.삼정라츠아파트</td>\n",
       "      <td>203000147.0</td>\n",
       "      <td>37.237183</td>\n",
       "      <td>127.059267</td>\n",
       "      <td>경기도 수원시</td>\n",
       "    </tr>\n",
       "  </tbody>\n",
       "</table>\n",
       "</div>"
      ],
      "text/plain": [
       "          최초승차역ID    최종하차역ID  이용량  이비카드정류장ID_승차   정류소명_승차   표준정류장ID_승차  \\\n",
       "185970  9196637.0  4100565.0    1     9196637.0   율동공원사거리  206000346.0   \n",
       "185971  9196637.0  4100566.0    1     9196637.0   율동공원사거리  206000346.0   \n",
       "185972  9196637.0  4116808.0    1     9196637.0   율동공원사거리  206000346.0   \n",
       "185973  9196637.0  4150166.0    1     9196637.0   율동공원사거리  206000346.0   \n",
       "185974  9196865.0  4108038.0    1     9196865.0  인정피렌체아파트  228001295.0   \n",
       "\n",
       "        WGS84위도_승차  WGS84경도_승차  관할관청_승차  이비카드정류장ID_하차         정류소명_하차  \\\n",
       "185970   37.383900  127.150233  경기도 성남시     4100565.0       파크타운.양지마을   \n",
       "185971   37.383900  127.150233  경기도 성남시     4100566.0  중앙공원.샛별마을우방아파트   \n",
       "185972   37.383900  127.150233  경기도 성남시     4116808.0     여권민원실.풍림아파트   \n",
       "185973   37.383900  127.150233  경기도 성남시     4150166.0           벽산아파트   \n",
       "185974   37.246183  127.229500  경기도 용인시     4108038.0   망포블루밍.삼정라츠아파트   \n",
       "\n",
       "         표준정류장ID_하차  WGS84위도_하차  WGS84경도_하차  관할관청_하차  \n",
       "185970  206000183.0   37.373967  127.119567  경기도 성남시  \n",
       "185971  206000184.0   37.372633  127.126183  경기도 성남시  \n",
       "185972  202000054.0   37.287450  127.033083  경기도 수원시  \n",
       "185973  228001144.0   37.334750  127.108717  경기도 용인시  \n",
       "185974  203000147.0   37.237183  127.059267  경기도 수원시  "
      ]
     },
     "execution_count": 43,
     "metadata": {},
     "output_type": "execute_result"
    }
   ],
   "source": [
    "### 수집건수 분류 x 결측치 제거 ###\n",
    "df_from_to = df_from_to[~df_from_to[cols].isna().any(axis=1)]\n",
    "df_from_to.tail(5)\n",
    "#관할관청 하차 경기도 화성시만 \n",
    "#관할관청 승차 경기도 화성시만 "
   ]
  },
  {
   "cell_type": "code",
   "execution_count": 44,
   "metadata": {},
   "outputs": [],
   "source": [
    "### 수집건수 분류 x 데이터생성 ###\n",
    "df_from_to.to_csv('./data/ODdata3.csv')"
   ]
  },
  {
   "cell_type": "markdown",
   "metadata": {},
   "source": [
    "## 5. ODdata3_1"
   ]
  },
  {
   "cell_type": "code",
   "execution_count": 45,
   "metadata": {},
   "outputs": [
    {
     "data": {
      "text/html": [
       "<div>\n",
       "<style scoped>\n",
       "    .dataframe tbody tr th:only-of-type {\n",
       "        vertical-align: middle;\n",
       "    }\n",
       "\n",
       "    .dataframe tbody tr th {\n",
       "        vertical-align: top;\n",
       "    }\n",
       "\n",
       "    .dataframe thead th {\n",
       "        text-align: right;\n",
       "    }\n",
       "</style>\n",
       "<table border=\"1\" class=\"dataframe\">\n",
       "  <thead>\n",
       "    <tr style=\"text-align: right;\">\n",
       "      <th></th>\n",
       "      <th>최초승차역ID</th>\n",
       "      <th>최종하차역ID</th>\n",
       "      <th>버스노선ID1</th>\n",
       "      <th>이용량</th>\n",
       "    </tr>\n",
       "  </thead>\n",
       "  <tbody>\n",
       "    <tr>\n",
       "      <td>0</td>\n",
       "      <td>4100002.0</td>\n",
       "      <td>4100004.0</td>\n",
       "      <td>41027009.0</td>\n",
       "      <td>1</td>\n",
       "    </tr>\n",
       "    <tr>\n",
       "      <td>1</td>\n",
       "      <td>4100002.0</td>\n",
       "      <td>4100020.0</td>\n",
       "      <td>41027009.0</td>\n",
       "      <td>1</td>\n",
       "    </tr>\n",
       "    <tr>\n",
       "      <td>2</td>\n",
       "      <td>4100002.0</td>\n",
       "      <td>4100022.0</td>\n",
       "      <td>41020001.0</td>\n",
       "      <td>1</td>\n",
       "    </tr>\n",
       "    <tr>\n",
       "      <td>3</td>\n",
       "      <td>4100002.0</td>\n",
       "      <td>4100024.0</td>\n",
       "      <td>41027009.0</td>\n",
       "      <td>1</td>\n",
       "    </tr>\n",
       "    <tr>\n",
       "      <td>4</td>\n",
       "      <td>4100002.0</td>\n",
       "      <td>4100030.0</td>\n",
       "      <td>41027009.0</td>\n",
       "      <td>1</td>\n",
       "    </tr>\n",
       "    <tr>\n",
       "      <td>...</td>\n",
       "      <td>...</td>\n",
       "      <td>...</td>\n",
       "      <td>...</td>\n",
       "      <td>...</td>\n",
       "    </tr>\n",
       "    <tr>\n",
       "      <td>76211</td>\n",
       "      <td>9199422.0</td>\n",
       "      <td>4170973.0</td>\n",
       "      <td>41074080.0</td>\n",
       "      <td>1</td>\n",
       "    </tr>\n",
       "    <tr>\n",
       "      <td>76212</td>\n",
       "      <td>9199422.0</td>\n",
       "      <td>4176946.0</td>\n",
       "      <td>41074080.0</td>\n",
       "      <td>8</td>\n",
       "    </tr>\n",
       "    <tr>\n",
       "      <td>76213</td>\n",
       "      <td>9199422.0</td>\n",
       "      <td>4197464.0</td>\n",
       "      <td>41074080.0</td>\n",
       "      <td>1</td>\n",
       "    </tr>\n",
       "    <tr>\n",
       "      <td>76214</td>\n",
       "      <td>9199422.0</td>\n",
       "      <td>4197590.0</td>\n",
       "      <td>41074080.0</td>\n",
       "      <td>1</td>\n",
       "    </tr>\n",
       "    <tr>\n",
       "      <td>76215</td>\n",
       "      <td>9199422.0</td>\n",
       "      <td>4198645.0</td>\n",
       "      <td>41074080.0</td>\n",
       "      <td>6</td>\n",
       "    </tr>\n",
       "  </tbody>\n",
       "</table>\n",
       "<p>76216 rows × 4 columns</p>\n",
       "</div>"
      ],
      "text/plain": [
       "         최초승차역ID    최종하차역ID     버스노선ID1  이용량\n",
       "0      4100002.0  4100004.0  41027009.0    1\n",
       "1      4100002.0  4100020.0  41027009.0    1\n",
       "2      4100002.0  4100022.0  41020001.0    1\n",
       "3      4100002.0  4100024.0  41027009.0    1\n",
       "4      4100002.0  4100030.0  41027009.0    1\n",
       "...          ...        ...         ...  ...\n",
       "76211  9199422.0  4170973.0  41074080.0    1\n",
       "76212  9199422.0  4176946.0  41074080.0    8\n",
       "76213  9199422.0  4197464.0  41074080.0    1\n",
       "76214  9199422.0  4197590.0  41074080.0    1\n",
       "76215  9199422.0  4198645.0  41074080.0    6\n",
       "\n",
       "[76216 rows x 4 columns]"
      ]
     },
     "execution_count": 45,
     "metadata": {},
     "output_type": "execute_result"
    }
   ],
   "source": [
    "### 수집건수 == 1 환승 없는 자료 ###\n",
    "\n",
    "# 수집건수 1\n",
    "df_from_to1 = df[df['수집건수'] == 1].groupby(['최초승차역ID', '최종하차역ID', '버스노선ID1']).size().to_frame().reset_index()\n",
    "df_from_to1.rename({0: \"이용량\"}, axis=1, inplace=True)\n",
    "df_from_to1"
   ]
  },
  {
   "cell_type": "code",
   "execution_count": 49,
   "metadata": {},
   "outputs": [],
   "source": [
    "# 12월 3일 제공자료  버스루트매핑 자료 로드\n",
    "routemapping = pd.read_csv('./data/PJT001_routestationmapping.csv')"
   ]
  },
  {
   "cell_type": "code",
   "execution_count": 50,
   "metadata": {},
   "outputs": [],
   "source": [
    "df_from_to1 = pd.merge(df_from_to1, \n",
    "             df_stations[['이비카드정류장ID', '정류소명', '표준정류장ID', 'WGS84위도', 'WGS84경도', '관할관청']],\n",
    "             left_on='최초승차역ID', right_on='이비카드정류장ID', how='left')\n",
    "\n",
    "df_from_to1 = pd.merge(df_from_to1, \n",
    "             df_stations[['이비카드정류장ID', '정류소명', '표준정류장ID', 'WGS84위도', 'WGS84경도', '관할관청']],\n",
    "             left_on='최종하차역ID', right_on='이비카드정류장ID', how='left',\n",
    "             suffixes=('_승차', '_하차'))\n",
    "\n",
    "df_from_to1 = pd.merge(df_from_to1,\n",
    "                       routemapping[['표준노선ID','노선명']],\n",
    "                       left_on = '버스노선ID1', right_on = '표준노선ID', how = 'left',\n",
    "                      )"
   ]
  },
  {
   "cell_type": "code",
   "execution_count": 51,
   "metadata": {},
   "outputs": [
    {
     "name": "stdout",
     "output_type": "stream",
     "text": [
      "13505 / 88495 (0.15%)\n"
     ]
    }
   ],
   "source": [
    "cols = [col for col in df_from_to1.columns if \"WGS\" in col]\n",
    "missing_num = df_from_to1[cols].isna().any(axis=1).sum()\n",
    "\n",
    "print(\"{} / {} ({:.2f}%)\".format(missing_num, len(df_from_to1), missing_num/len(df_from_to1)))"
   ]
  },
  {
   "cell_type": "code",
   "execution_count": 52,
   "metadata": {},
   "outputs": [],
   "source": [
    "df_from_to1 = df_from_to1[~df_from_to1[cols].isna().any(axis=1)]"
   ]
  },
  {
   "cell_type": "code",
   "execution_count": null,
   "metadata": {},
   "outputs": [],
   "source": [
    "# 경기도 화성시, 경기도 오산시, 경기도 평택시, 경기도 안산시, 경기도 수원시\n",
    "target_si =['경기도 화성시','경기도 오산시','경기도 평택시','경기도 안산시','경기도 수원시']"
   ]
  },
  {
   "cell_type": "code",
   "execution_count": null,
   "metadata": {},
   "outputs": [],
   "source": [
    "df_from_to1 = df_from_to1[df_from_to1['관할관청_승차'].isin(target_si) & df_from_to1['관할관청_하차'].isin(target_si)]\n",
    "\n",
    "print(df_from_to1['관할관청_승차'].unique())\n",
    "print(df_from_to1['관할관청_하차'].unique())\n",
    "len(df_from_to1)"
   ]
  },
  {
   "cell_type": "code",
   "execution_count": null,
   "metadata": {},
   "outputs": [],
   "source": [
    "before = len(df_from_to1)\n",
    "df_from_to1.dropna(subset=['표준노선ID', '노선명'], inplace = True)\n",
    "after = len(df_from_to1)\n",
    "print(\"{} -> {} ({:.2f})\".format(before, after, (before-after)/before))"
   ]
  },
  {
   "cell_type": "code",
   "execution_count": null,
   "metadata": {},
   "outputs": [],
   "source": [
    "# 저장\n",
    "df_from_to1.to_csv('./data/ODdata3_1.csv')"
   ]
  }
 ],
 "metadata": {
  "kernelspec": {
   "display_name": "Python 3",
   "language": "python",
   "name": "python3"
  },
  "language_info": {
   "codemirror_mode": {
    "name": "ipython",
    "version": 3
   },
   "file_extension": ".py",
   "mimetype": "text/x-python",
   "name": "python",
   "nbconvert_exporter": "python",
   "pygments_lexer": "ipython3",
   "version": "3.6.3"
  }
 },
 "nbformat": 4,
 "nbformat_minor": 2
}
