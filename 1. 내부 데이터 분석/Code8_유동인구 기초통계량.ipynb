{
 "cells": [
  {
   "cell_type": "code",
   "execution_count": 1,
   "metadata": {},
   "outputs": [],
   "source": [
    "import geopandas as gpd\n",
    "import deckgljupyter.Layer as deckgl\n",
    "from geoband.API import *            # API는 주어진 노트북 환경에서만 불러오기 가능\n",
    "\n",
    "GetCompasData('PJT001_h_100m_cell_flow.geojson')"
   ]
  },
  {
   "cell_type": "code",
   "execution_count": 3,
   "metadata": {},
   "outputs": [
    {
     "data": {
      "text/plain": [
       "(136571, 28)"
      ]
     },
     "execution_count": 3,
     "metadata": {},
     "output_type": "execute_result"
    }
   ],
   "source": [
    "df_pop = gpd.read_file('PJT001_h_100m_cell_flow.geojson')\n",
    "# geojson는 공간이 아닌 속성과 함께 간단한 지리적특징을 나타내기 위해 설계된 공개 표준 형식이다.\n",
    "df_pop.shape"
   ]
  },
  {
   "cell_type": "code",
   "execution_count": 4,
   "metadata": {},
   "outputs": [],
   "source": [
    "df_pop['ymd'] = df_pop['ymd'].astype('int')"
   ]
  },
  {
   "cell_type": "code",
   "execution_count": 5,
   "metadata": {},
   "outputs": [
    {
     "name": "stdout",
     "output_type": "stream",
     "text": [
      "(35208, 28)\n"
     ]
    },
    {
     "data": {
      "text/html": [
       "<div>\n",
       "<style scoped>\n",
       "    .dataframe tbody tr th:only-of-type {\n",
       "        vertical-align: middle;\n",
       "    }\n",
       "\n",
       "    .dataframe tbody tr th {\n",
       "        vertical-align: top;\n",
       "    }\n",
       "\n",
       "    .dataframe thead th {\n",
       "        text-align: right;\n",
       "    }\n",
       "</style>\n",
       "<table border=\"1\" class=\"dataframe\">\n",
       "  <thead>\n",
       "    <tr style=\"text-align: right;\">\n",
       "      <th></th>\n",
       "      <th>id</th>\n",
       "      <th>ymd</th>\n",
       "      <th>t00_01</th>\n",
       "      <th>t01_02</th>\n",
       "      <th>t02_03</th>\n",
       "      <th>t03_04</th>\n",
       "      <th>t04_05</th>\n",
       "      <th>t05_06</th>\n",
       "      <th>t06_07</th>\n",
       "      <th>t07_08</th>\n",
       "      <th>...</th>\n",
       "      <th>t16_17</th>\n",
       "      <th>t17_18</th>\n",
       "      <th>t18_19</th>\n",
       "      <th>t19_20</th>\n",
       "      <th>t20_21</th>\n",
       "      <th>t21_22</th>\n",
       "      <th>t22_23</th>\n",
       "      <th>t23_24</th>\n",
       "      <th>emd_cd</th>\n",
       "      <th>geometry</th>\n",
       "    </tr>\n",
       "  </thead>\n",
       "  <tbody>\n",
       "    <tr>\n",
       "      <td>0</td>\n",
       "      <td>34158</td>\n",
       "      <td>20180702</td>\n",
       "      <td>0.00</td>\n",
       "      <td>0.00</td>\n",
       "      <td>0.00</td>\n",
       "      <td>0.00</td>\n",
       "      <td>0.00</td>\n",
       "      <td>0.00</td>\n",
       "      <td>0.00</td>\n",
       "      <td>0.02</td>\n",
       "      <td>...</td>\n",
       "      <td>0.02</td>\n",
       "      <td>0.00</td>\n",
       "      <td>0.00</td>\n",
       "      <td>0.00</td>\n",
       "      <td>0.00</td>\n",
       "      <td>0.00</td>\n",
       "      <td>0.00</td>\n",
       "      <td>0.00</td>\n",
       "      <td>41590370</td>\n",
       "      <td>POLYGON ((126.87040045969 37.08525725444746, 1...</td>\n",
       "    </tr>\n",
       "    <tr>\n",
       "      <td>1</td>\n",
       "      <td>34273</td>\n",
       "      <td>20180702</td>\n",
       "      <td>0.00</td>\n",
       "      <td>0.00</td>\n",
       "      <td>0.00</td>\n",
       "      <td>0.00</td>\n",
       "      <td>0.00</td>\n",
       "      <td>0.00</td>\n",
       "      <td>0.00</td>\n",
       "      <td>0.00</td>\n",
       "      <td>...</td>\n",
       "      <td>0.01</td>\n",
       "      <td>0.01</td>\n",
       "      <td>0.01</td>\n",
       "      <td>0.01</td>\n",
       "      <td>0.00</td>\n",
       "      <td>0.00</td>\n",
       "      <td>0.00</td>\n",
       "      <td>0.00</td>\n",
       "      <td>41590256</td>\n",
       "      <td>POLYGON ((126.7725166757238 37.09682376438204,...</td>\n",
       "    </tr>\n",
       "    <tr>\n",
       "      <td>2</td>\n",
       "      <td>31089</td>\n",
       "      <td>20180702</td>\n",
       "      <td>0.00</td>\n",
       "      <td>0.00</td>\n",
       "      <td>0.00</td>\n",
       "      <td>0.00</td>\n",
       "      <td>0.02</td>\n",
       "      <td>0.04</td>\n",
       "      <td>0.17</td>\n",
       "      <td>0.15</td>\n",
       "      <td>...</td>\n",
       "      <td>1.14</td>\n",
       "      <td>1.05</td>\n",
       "      <td>0.71</td>\n",
       "      <td>0.33</td>\n",
       "      <td>0.24</td>\n",
       "      <td>0.15</td>\n",
       "      <td>0.11</td>\n",
       "      <td>0.08</td>\n",
       "      <td>41590350</td>\n",
       "      <td>POLYGON ((126.6891811486756 37.12006223825502,...</td>\n",
       "    </tr>\n",
       "    <tr>\n",
       "      <td>3</td>\n",
       "      <td>31163</td>\n",
       "      <td>20180702</td>\n",
       "      <td>0.00</td>\n",
       "      <td>0.01</td>\n",
       "      <td>0.02</td>\n",
       "      <td>0.00</td>\n",
       "      <td>0.00</td>\n",
       "      <td>0.07</td>\n",
       "      <td>0.19</td>\n",
       "      <td>0.11</td>\n",
       "      <td>...</td>\n",
       "      <td>0.08</td>\n",
       "      <td>0.10</td>\n",
       "      <td>0.08</td>\n",
       "      <td>0.10</td>\n",
       "      <td>0.04</td>\n",
       "      <td>0.05</td>\n",
       "      <td>0.01</td>\n",
       "      <td>0.01</td>\n",
       "      <td>41590256</td>\n",
       "      <td>POLYGON ((126.7794563850283 37.03105870394775,...</td>\n",
       "    </tr>\n",
       "    <tr>\n",
       "      <td>4</td>\n",
       "      <td>31309</td>\n",
       "      <td>20180702</td>\n",
       "      <td>0.01</td>\n",
       "      <td>0.01</td>\n",
       "      <td>0.00</td>\n",
       "      <td>0.01</td>\n",
       "      <td>0.00</td>\n",
       "      <td>0.00</td>\n",
       "      <td>0.01</td>\n",
       "      <td>0.02</td>\n",
       "      <td>...</td>\n",
       "      <td>0.03</td>\n",
       "      <td>0.02</td>\n",
       "      <td>0.03</td>\n",
       "      <td>0.02</td>\n",
       "      <td>0.01</td>\n",
       "      <td>0.02</td>\n",
       "      <td>0.00</td>\n",
       "      <td>0.00</td>\n",
       "      <td>41590370</td>\n",
       "      <td>POLYGON ((126.8244144306009 37.0302326688517, ...</td>\n",
       "    </tr>\n",
       "  </tbody>\n",
       "</table>\n",
       "<p>5 rows × 28 columns</p>\n",
       "</div>"
      ],
      "text/plain": [
       "      id       ymd  t00_01  t01_02  t02_03  t03_04  t04_05  t05_06  t06_07  \\\n",
       "0  34158  20180702    0.00    0.00    0.00    0.00    0.00    0.00    0.00   \n",
       "1  34273  20180702    0.00    0.00    0.00    0.00    0.00    0.00    0.00   \n",
       "2  31089  20180702    0.00    0.00    0.00    0.00    0.02    0.04    0.17   \n",
       "3  31163  20180702    0.00    0.01    0.02    0.00    0.00    0.07    0.19   \n",
       "4  31309  20180702    0.01    0.01    0.00    0.01    0.00    0.00    0.01   \n",
       "\n",
       "   t07_08  ...  t16_17  t17_18  t18_19  t19_20  t20_21  t21_22  t22_23  \\\n",
       "0    0.02  ...    0.02    0.00    0.00    0.00    0.00    0.00    0.00   \n",
       "1    0.00  ...    0.01    0.01    0.01    0.01    0.00    0.00    0.00   \n",
       "2    0.15  ...    1.14    1.05    0.71    0.33    0.24    0.15    0.11   \n",
       "3    0.11  ...    0.08    0.10    0.08    0.10    0.04    0.05    0.01   \n",
       "4    0.02  ...    0.03    0.02    0.03    0.02    0.01    0.02    0.00   \n",
       "\n",
       "   t23_24    emd_cd                                           geometry  \n",
       "0    0.00  41590370  POLYGON ((126.87040045969 37.08525725444746, 1...  \n",
       "1    0.00  41590256  POLYGON ((126.7725166757238 37.09682376438204,...  \n",
       "2    0.08  41590350  POLYGON ((126.6891811486756 37.12006223825502,...  \n",
       "3    0.01  41590256  POLYGON ((126.7794563850283 37.03105870394775,...  \n",
       "4    0.00  41590370  POLYGON ((126.8244144306009 37.0302326688517, ...  \n",
       "\n",
       "[5 rows x 28 columns]"
      ]
     },
     "execution_count": 5,
     "metadata": {},
     "output_type": "execute_result"
    }
   ],
   "source": [
    "df_pop = df_pop[df_pop['ymd']==20180702]     # 20160702 일자 데이터 추출\n",
    "df_pop.reset_index(drop=True, inplace=True)\n",
    "df_pop.fillna(0, inplace=True)\n",
    "print(df_pop.shape)\n",
    "df_pop.head()"
   ]
  },
  {
   "cell_type": "code",
   "execution_count": 9,
   "metadata": {},
   "outputs": [
    {
     "data": {
      "text/plain": [
       "35208"
      ]
     },
     "execution_count": 9,
     "metadata": {},
     "output_type": "execute_result"
    }
   ],
   "source": [
    "len(df_pop)"
   ]
  },
  {
   "cell_type": "code",
   "execution_count": 18,
   "metadata": {
    "scrolled": true
   },
   "outputs": [
    {
     "data": {
      "text/plain": [
       "count    35208.000000\n",
       "mean         4.126829\n",
       "std         13.189848\n",
       "min          0.000000\n",
       "25%          0.080000\n",
       "50%          0.510000\n",
       "75%          2.620000\n",
       "max        464.180000\n",
       "Name: t07_08, dtype: float64"
      ]
     },
     "execution_count": 18,
     "metadata": {},
     "output_type": "execute_result"
    }
   ],
   "source": [
    "df_pop['t07_08'].describe()"
   ]
  },
  {
   "cell_type": "code",
   "execution_count": 21,
   "metadata": {},
   "outputs": [
    {
     "data": {
      "text/plain": [
       "(array([3.4644e+04, 4.3000e+02, 8.3000e+01, 2.8000e+01, 1.2000e+01,\n",
       "        5.0000e+00, 2.0000e+00, 2.0000e+00, 1.0000e+00, 1.0000e+00]),\n",
       " array([  0.   ,  46.418,  92.836, 139.254, 185.672, 232.09 , 278.508,\n",
       "        324.926, 371.344, 417.762, 464.18 ]),\n",
       " <a list of 10 Patch objects>)"
      ]
     },
     "execution_count": 21,
     "metadata": {},
     "output_type": "execute_result"
    },
    {
     "data": {
      "image/png": "[encoded data removed]",
      "text/plain": [
       "<Figure size 432x288 with 1 Axes>"
      ]
     },
     "metadata": {
      "needs_background": "light"
     },
     "output_type": "display_data"
    }
   ],
   "source": [
    "import matplotlib.pyplot as plt\n",
    "\n",
    "plt.hist(df_pop['t07_08'])"
   ]
  }
 ],
 "metadata": {
  "kernelspec": {
   "display_name": "Python 3",
   "language": "python",
   "name": "python3"
  },
  "language_info": {
   "codemirror_mode": {
    "name": "ipython",
    "version": 3
   },
   "file_extension": ".py",
   "mimetype": "text/x-python",
   "name": "python",
   "nbconvert_exporter": "python",
   "pygments_lexer": "ipython3",
   "version": "3.6.3"
  }
 },
 "nbformat": 4,
 "nbformat_minor": 2
}
